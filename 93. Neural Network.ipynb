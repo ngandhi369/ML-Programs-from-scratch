{
 "cells": [
  {
   "cell_type": "code",
   "execution_count": 2,
   "id": "8c729e56",
   "metadata": {},
   "outputs": [],
   "source": [
    "import numpy as np\n",
    "import matplotlib.pyplot as plt"
   ]
  },
  {
   "cell_type": "code",
   "execution_count": 3,
   "id": "44d82ffe",
   "metadata": {},
   "outputs": [],
   "source": [
    "\n",
    "def sigmoid(x):\n",
    "    return 1 / (1 + np.exp(-x))\n",
    "\n",
    "\n",
    "def sigmoid_derivative(x):\n",
    "    return x * (1 - x)"
   ]
  },
  {
   "cell_type": "code",
   "execution_count": 4,
   "id": "53501e92",
   "metadata": {},
   "outputs": [],
   "source": [
    "\n",
    "class NeuralNetwork:\n",
    "    def __init__(self):\n",
    "        \n",
    "        self.input_layer_size = 2\n",
    "        self.hidden_layer_size = 3\n",
    "        self.output_layer_size = 1\n",
    "\n",
    "        self.weights1 = np.random.randn(self.input_layer_size, self.hidden_layer_size)\n",
    "        self.weights2 = np.random.randn(self.hidden_layer_size, self.output_layer_size)\n",
    "\n",
    "        self.bias1 = np.zeros((1, self.hidden_layer_size))\n",
    "        self.bias2 = np.zeros((1, self.output_layer_size))\n",
    "\n",
    "\n",
    "    def forward_propagation(self, X):\n",
    "\n",
    "        self.layer1 = sigmoid(np.dot(X, self.weights1) + self.bias1)\n",
    "        self.output = sigmoid(np.dot(self.layer1, self.weights2) + self.bias2)\n",
    "\n",
    "        return self.output\n",
    "\n",
    "\n",
    "    def backward_propagation(self, X, y, output):\n",
    "\n",
    "        error = output - y\n",
    "\n",
    "        output_grad = error * sigmoid_derivative(output)\n",
    "        weights2_grad = np.dot(self.layer1.T, output_grad)\n",
    "        bias2_grad = np.sum(output_grad, axis=0, keepdims=True)\n",
    "\n",
    "        hidden_grad = np.dot(output_grad, self.weights2.T) * sigmoid_derivative(self.layer1)\n",
    "        weights1_grad = np.dot(X.T, hidden_grad)\n",
    "        bias1_grad = np.sum(hidden_grad, axis=0)\n",
    "\n",
    "        \n",
    "        self.weights1 -= weights1_grad\n",
    "        self.bias1 -= bias1_grad\n",
    "        self.weights2 -= weights2_grad\n",
    "        self.bias2 -= bias2_grad\n",
    "\n",
    "    \n",
    "    def train(self, X, y, epochs):\n",
    "        for i in range(epochs):\n",
    "            output = self.forward_propagation(X)\n",
    "            self.backward_propagation(X, y, output)\n",
    "\n",
    "    \n",
    "    def predict(self, X):\n",
    "        output = self.forward_propagation(X)\n",
    "        return np.round(output)\n",
    "\n"
   ]
  },
  {
   "cell_type": "code",
   "execution_count": 5,
   "id": "9ede295c",
   "metadata": {},
   "outputs": [],
   "source": [
    "# XOR GATE\n",
    "X = np.array([[0, 0], [0, 1], [1, 0], [1, 1]])\n",
    "y = np.array([[0], [1], [1], [0]])"
   ]
  },
  {
   "cell_type": "code",
   "execution_count": 6,
   "id": "978a8e70",
   "metadata": {},
   "outputs": [
    {
     "name": "stdout",
     "output_type": "stream",
     "text": [
      "[[0.]\n",
      " [1.]\n",
      " [1.]\n",
      " [0.]]\n"
     ]
    }
   ],
   "source": [
    "nn = NeuralNetwork()\n",
    "nn.train(X, y, 10000)\n",
    "print(nn.predict(X))"
   ]
  },
  {
   "cell_type": "code",
   "execution_count": null,
   "id": "87c0713c",
   "metadata": {},
   "outputs": [],
   "source": []
  },
  {
   "cell_type": "code",
   "execution_count": null,
   "id": "4f753d73",
   "metadata": {},
   "outputs": [],
   "source": []
  }
 ],
 "metadata": {
  "kernelspec": {
   "display_name": "Python 3 (ipykernel)",
   "language": "python",
   "name": "python3"
  },
  "language_info": {
   "codemirror_mode": {
    "name": "ipython",
    "version": 3
   },
   "file_extension": ".py",
   "mimetype": "text/x-python",
   "name": "python",
   "nbconvert_exporter": "python",
   "pygments_lexer": "ipython3",
   "version": "3.10.6"
  }
 },
 "nbformat": 4,
 "nbformat_minor": 5
}
