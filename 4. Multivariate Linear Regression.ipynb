{
 "cells": [
  {
   "cell_type": "code",
   "execution_count": 1,
   "id": "19444f18",
   "metadata": {},
   "outputs": [],
   "source": [
    "import pandas as pd\n",
    "import numpy as np\n",
    "import matplotlib.pyplot as plt"
   ]
  },
  {
   "cell_type": "code",
   "execution_count": 2,
   "id": "f1f1a3c4",
   "metadata": {},
   "outputs": [],
   "source": [
    "iris = pd.read_csv(\"iris.csv\")"
   ]
  },
  {
   "cell_type": "code",
   "execution_count": 3,
   "id": "e71730a5",
   "metadata": {},
   "outputs": [
    {
     "data": {
      "text/plain": [
       "False"
      ]
     },
     "execution_count": 3,
     "metadata": {},
     "output_type": "execute_result"
    }
   ],
   "source": [
    "iris.isnull().values.any()"
   ]
  },
  {
   "cell_type": "code",
   "execution_count": 4,
   "id": "fad5f788",
   "metadata": {},
   "outputs": [
    {
     "data": {
      "text/html": [
       "<div>\n",
       "<style scoped>\n",
       "    .dataframe tbody tr th:only-of-type {\n",
       "        vertical-align: middle;\n",
       "    }\n",
       "\n",
       "    .dataframe tbody tr th {\n",
       "        vertical-align: top;\n",
       "    }\n",
       "\n",
       "    .dataframe thead th {\n",
       "        text-align: right;\n",
       "    }\n",
       "</style>\n",
       "<table border=\"1\" class=\"dataframe\">\n",
       "  <thead>\n",
       "    <tr style=\"text-align: right;\">\n",
       "      <th></th>\n",
       "      <th>Id</th>\n",
       "      <th>SepalLengthCm</th>\n",
       "      <th>SepalWidthCm</th>\n",
       "      <th>PetalLengthCm</th>\n",
       "      <th>PetalWidthCm</th>\n",
       "      <th>Species</th>\n",
       "    </tr>\n",
       "  </thead>\n",
       "  <tbody>\n",
       "    <tr>\n",
       "      <th>5</th>\n",
       "      <td>6</td>\n",
       "      <td>5.4</td>\n",
       "      <td>3.9</td>\n",
       "      <td>1.7</td>\n",
       "      <td>0.4</td>\n",
       "      <td>Iris-setosa</td>\n",
       "    </tr>\n",
       "    <tr>\n",
       "      <th>27</th>\n",
       "      <td>28</td>\n",
       "      <td>5.2</td>\n",
       "      <td>3.5</td>\n",
       "      <td>1.5</td>\n",
       "      <td>0.2</td>\n",
       "      <td>Iris-setosa</td>\n",
       "    </tr>\n",
       "    <tr>\n",
       "      <th>60</th>\n",
       "      <td>61</td>\n",
       "      <td>5.0</td>\n",
       "      <td>2.0</td>\n",
       "      <td>3.5</td>\n",
       "      <td>1.0</td>\n",
       "      <td>Iris-versicolor</td>\n",
       "    </tr>\n",
       "    <tr>\n",
       "      <th>140</th>\n",
       "      <td>141</td>\n",
       "      <td>6.7</td>\n",
       "      <td>3.1</td>\n",
       "      <td>5.6</td>\n",
       "      <td>2.4</td>\n",
       "      <td>Iris-virginica</td>\n",
       "    </tr>\n",
       "    <tr>\n",
       "      <th>13</th>\n",
       "      <td>14</td>\n",
       "      <td>4.3</td>\n",
       "      <td>3.0</td>\n",
       "      <td>1.1</td>\n",
       "      <td>0.1</td>\n",
       "      <td>Iris-setosa</td>\n",
       "    </tr>\n",
       "  </tbody>\n",
       "</table>\n",
       "</div>"
      ],
      "text/plain": [
       "      Id  SepalLengthCm  SepalWidthCm  PetalLengthCm  PetalWidthCm  \\\n",
       "5      6            5.4           3.9            1.7           0.4   \n",
       "27    28            5.2           3.5            1.5           0.2   \n",
       "60    61            5.0           2.0            3.5           1.0   \n",
       "140  141            6.7           3.1            5.6           2.4   \n",
       "13    14            4.3           3.0            1.1           0.1   \n",
       "\n",
       "             Species  \n",
       "5        Iris-setosa  \n",
       "27       Iris-setosa  \n",
       "60   Iris-versicolor  \n",
       "140   Iris-virginica  \n",
       "13       Iris-setosa  "
      ]
     },
     "execution_count": 4,
     "metadata": {},
     "output_type": "execute_result"
    }
   ],
   "source": [
    "iris.sample(5)"
   ]
  },
  {
   "cell_type": "code",
   "execution_count": 5,
   "id": "93b646fc",
   "metadata": {},
   "outputs": [
    {
     "data": {
      "text/html": [
       "<div>\n",
       "<style scoped>\n",
       "    .dataframe tbody tr th:only-of-type {\n",
       "        vertical-align: middle;\n",
       "    }\n",
       "\n",
       "    .dataframe tbody tr th {\n",
       "        vertical-align: top;\n",
       "    }\n",
       "\n",
       "    .dataframe thead th {\n",
       "        text-align: right;\n",
       "    }\n",
       "</style>\n",
       "<table border=\"1\" class=\"dataframe\">\n",
       "  <thead>\n",
       "    <tr style=\"text-align: right;\">\n",
       "      <th></th>\n",
       "      <th>SepalLengthCm</th>\n",
       "      <th>SepalWidthCm</th>\n",
       "      <th>PetalLengthCm</th>\n",
       "    </tr>\n",
       "  </thead>\n",
       "  <tbody>\n",
       "    <tr>\n",
       "      <th>0</th>\n",
       "      <td>5.1</td>\n",
       "      <td>3.5</td>\n",
       "      <td>1.4</td>\n",
       "    </tr>\n",
       "    <tr>\n",
       "      <th>1</th>\n",
       "      <td>4.9</td>\n",
       "      <td>3.0</td>\n",
       "      <td>1.4</td>\n",
       "    </tr>\n",
       "    <tr>\n",
       "      <th>2</th>\n",
       "      <td>4.7</td>\n",
       "      <td>3.2</td>\n",
       "      <td>1.3</td>\n",
       "    </tr>\n",
       "    <tr>\n",
       "      <th>3</th>\n",
       "      <td>4.6</td>\n",
       "      <td>3.1</td>\n",
       "      <td>1.5</td>\n",
       "    </tr>\n",
       "    <tr>\n",
       "      <th>4</th>\n",
       "      <td>5.0</td>\n",
       "      <td>3.6</td>\n",
       "      <td>1.4</td>\n",
       "    </tr>\n",
       "    <tr>\n",
       "      <th>...</th>\n",
       "      <td>...</td>\n",
       "      <td>...</td>\n",
       "      <td>...</td>\n",
       "    </tr>\n",
       "    <tr>\n",
       "      <th>145</th>\n",
       "      <td>6.7</td>\n",
       "      <td>3.0</td>\n",
       "      <td>5.2</td>\n",
       "    </tr>\n",
       "    <tr>\n",
       "      <th>146</th>\n",
       "      <td>6.3</td>\n",
       "      <td>2.5</td>\n",
       "      <td>5.0</td>\n",
       "    </tr>\n",
       "    <tr>\n",
       "      <th>147</th>\n",
       "      <td>6.5</td>\n",
       "      <td>3.0</td>\n",
       "      <td>5.2</td>\n",
       "    </tr>\n",
       "    <tr>\n",
       "      <th>148</th>\n",
       "      <td>6.2</td>\n",
       "      <td>3.4</td>\n",
       "      <td>5.4</td>\n",
       "    </tr>\n",
       "    <tr>\n",
       "      <th>149</th>\n",
       "      <td>5.9</td>\n",
       "      <td>3.0</td>\n",
       "      <td>5.1</td>\n",
       "    </tr>\n",
       "  </tbody>\n",
       "</table>\n",
       "<p>150 rows × 3 columns</p>\n",
       "</div>"
      ],
      "text/plain": [
       "     SepalLengthCm  SepalWidthCm  PetalLengthCm\n",
       "0              5.1           3.5            1.4\n",
       "1              4.9           3.0            1.4\n",
       "2              4.7           3.2            1.3\n",
       "3              4.6           3.1            1.5\n",
       "4              5.0           3.6            1.4\n",
       "..             ...           ...            ...\n",
       "145            6.7           3.0            5.2\n",
       "146            6.3           2.5            5.0\n",
       "147            6.5           3.0            5.2\n",
       "148            6.2           3.4            5.4\n",
       "149            5.9           3.0            5.1\n",
       "\n",
       "[150 rows x 3 columns]"
      ]
     },
     "execution_count": 5,
     "metadata": {},
     "output_type": "execute_result"
    }
   ],
   "source": [
    "x = iris.iloc[:,1:4]\n",
    "x"
   ]
  },
  {
   "cell_type": "code",
   "execution_count": 6,
   "id": "aff5af26",
   "metadata": {},
   "outputs": [
    {
     "data": {
      "text/html": [
       "<div>\n",
       "<style scoped>\n",
       "    .dataframe tbody tr th:only-of-type {\n",
       "        vertical-align: middle;\n",
       "    }\n",
       "\n",
       "    .dataframe tbody tr th {\n",
       "        vertical-align: top;\n",
       "    }\n",
       "\n",
       "    .dataframe thead th {\n",
       "        text-align: right;\n",
       "    }\n",
       "</style>\n",
       "<table border=\"1\" class=\"dataframe\">\n",
       "  <thead>\n",
       "    <tr style=\"text-align: right;\">\n",
       "      <th></th>\n",
       "      <th>PetalWidthCm</th>\n",
       "    </tr>\n",
       "  </thead>\n",
       "  <tbody>\n",
       "    <tr>\n",
       "      <th>0</th>\n",
       "      <td>0.2</td>\n",
       "    </tr>\n",
       "    <tr>\n",
       "      <th>1</th>\n",
       "      <td>0.2</td>\n",
       "    </tr>\n",
       "    <tr>\n",
       "      <th>2</th>\n",
       "      <td>0.2</td>\n",
       "    </tr>\n",
       "    <tr>\n",
       "      <th>3</th>\n",
       "      <td>0.2</td>\n",
       "    </tr>\n",
       "    <tr>\n",
       "      <th>4</th>\n",
       "      <td>0.2</td>\n",
       "    </tr>\n",
       "    <tr>\n",
       "      <th>...</th>\n",
       "      <td>...</td>\n",
       "    </tr>\n",
       "    <tr>\n",
       "      <th>145</th>\n",
       "      <td>2.3</td>\n",
       "    </tr>\n",
       "    <tr>\n",
       "      <th>146</th>\n",
       "      <td>1.9</td>\n",
       "    </tr>\n",
       "    <tr>\n",
       "      <th>147</th>\n",
       "      <td>2.0</td>\n",
       "    </tr>\n",
       "    <tr>\n",
       "      <th>148</th>\n",
       "      <td>2.3</td>\n",
       "    </tr>\n",
       "    <tr>\n",
       "      <th>149</th>\n",
       "      <td>1.8</td>\n",
       "    </tr>\n",
       "  </tbody>\n",
       "</table>\n",
       "<p>150 rows × 1 columns</p>\n",
       "</div>"
      ],
      "text/plain": [
       "     PetalWidthCm\n",
       "0             0.2\n",
       "1             0.2\n",
       "2             0.2\n",
       "3             0.2\n",
       "4             0.2\n",
       "..            ...\n",
       "145           2.3\n",
       "146           1.9\n",
       "147           2.0\n",
       "148           2.3\n",
       "149           1.8\n",
       "\n",
       "[150 rows x 1 columns]"
      ]
     },
     "execution_count": 6,
     "metadata": {},
     "output_type": "execute_result"
    }
   ],
   "source": [
    "y = iris.iloc[:,4:5]\n",
    "y"
   ]
  },
  {
   "cell_type": "code",
   "execution_count": 7,
   "id": "2d1b7344",
   "metadata": {},
   "outputs": [],
   "source": [
    "x = iris.iloc[:,1:4].values\n",
    "y = iris.iloc[:,4:5].values"
   ]
  },
  {
   "cell_type": "code",
   "execution_count": 8,
   "id": "4a045d16",
   "metadata": {},
   "outputs": [
    {
     "name": "stdout",
     "output_type": "stream",
     "text": [
      "(150, 1)\n"
     ]
    }
   ],
   "source": [
    "print(y.shape)"
   ]
  },
  {
   "cell_type": "code",
   "execution_count": 9,
   "id": "3425ed7c",
   "metadata": {},
   "outputs": [
    {
     "name": "stdout",
     "output_type": "stream",
     "text": [
      "(150, 3)\n"
     ]
    }
   ],
   "source": [
    "print(x.shape)"
   ]
  },
  {
   "cell_type": "code",
   "execution_count": 10,
   "id": "2fde81b3",
   "metadata": {},
   "outputs": [
    {
     "data": {
      "text/plain": [
       "array([[ 0.53412873, -0.43554521, -1.70824225],\n",
       "       [ 0.41291949, -0.73856832, -1.70824225],\n",
       "       [ 0.29171024, -0.61735907, -1.76884687],\n",
       "       [ 0.23110562, -0.67796369, -1.64763763],\n",
       "       [ 0.47352411, -0.37494059, -1.70824225],\n",
       "       [ 0.71594259, -0.19312673, -1.52642839],\n",
       "       [ 0.23110562, -0.49614983, -1.70824225],\n",
       "       [ 0.47352411, -0.49614983, -1.64763763],\n",
       "       [ 0.10989638, -0.79917294, -1.70824225],\n",
       "       [ 0.41291949, -0.67796369, -1.64763763],\n",
       "       [ 0.71594259, -0.31433597, -1.64763763],\n",
       "       [ 0.35231486, -0.49614983, -1.58703301],\n",
       "       [ 0.35231486, -0.73856832, -1.70824225],\n",
       "       [ 0.04929176, -0.73856832, -1.89005612],\n",
       "       [ 0.95836108, -0.1325221 , -1.8294515 ],\n",
       "       [ 0.89775645,  0.10989638, -1.64763763],\n",
       "       [ 0.71594259, -0.19312673, -1.76884687],\n",
       "       [ 0.53412873, -0.43554521, -1.70824225],\n",
       "       [ 0.89775645, -0.25373135, -1.52642839],\n",
       "       [ 0.53412873, -0.25373135, -1.64763763],\n",
       "       [ 0.71594259, -0.49614983, -1.52642839],\n",
       "       [ 0.53412873, -0.31433597, -1.64763763],\n",
       "       [ 0.23110562, -0.37494059, -1.95066074],\n",
       "       [ 0.53412873, -0.55675445, -1.52642839],\n",
       "       [ 0.35231486, -0.49614983, -1.40521915],\n",
       "       [ 0.47352411, -0.73856832, -1.58703301],\n",
       "       [ 0.47352411, -0.49614983, -1.58703301],\n",
       "       [ 0.59473335, -0.43554521, -1.64763763],\n",
       "       [ 0.59473335, -0.49614983, -1.70824225],\n",
       "       [ 0.29171024, -0.61735907, -1.58703301],\n",
       "       [ 0.35231486, -0.67796369, -1.58703301],\n",
       "       [ 0.71594259, -0.49614983, -1.64763763],\n",
       "       [ 0.59473335, -0.07191748, -1.64763763],\n",
       "       [ 0.77654721, -0.01131286, -1.70824225],\n",
       "       [ 0.41291949, -0.67796369, -1.64763763],\n",
       "       [ 0.47352411, -0.61735907, -1.8294515 ],\n",
       "       [ 0.77654721, -0.43554521, -1.76884687],\n",
       "       [ 0.41291949, -0.67796369, -1.64763763],\n",
       "       [ 0.10989638, -0.73856832, -1.76884687],\n",
       "       [ 0.53412873, -0.49614983, -1.64763763],\n",
       "       [ 0.47352411, -0.43554521, -1.76884687],\n",
       "       [ 0.170501  , -1.16280066, -1.76884687],\n",
       "       [ 0.10989638, -0.61735907, -1.76884687],\n",
       "       [ 0.47352411, -0.43554521, -1.58703301],\n",
       "       [ 0.53412873, -0.25373135, -1.40521915],\n",
       "       [ 0.35231486, -0.73856832, -1.70824225],\n",
       "       [ 0.53412873, -0.25373135, -1.58703301],\n",
       "       [ 0.23110562, -0.61735907, -1.70824225],\n",
       "       [ 0.65533797, -0.31433597, -1.64763763],\n",
       "       [ 0.47352411, -0.55675445, -1.70824225],\n",
       "       [ 1.68561653, -0.61735907,  0.29171024],\n",
       "       [ 1.3219888 , -0.61735907,  0.170501  ],\n",
       "       [ 1.62501191, -0.67796369,  0.41291949],\n",
       "       [ 0.77654721, -1.16280066, -0.1325221 ],\n",
       "       [ 1.38259342, -0.85977756,  0.23110562],\n",
       "       [ 0.89775645, -0.85977756,  0.170501  ],\n",
       "       [ 1.26138418, -0.55675445,  0.29171024],\n",
       "       [ 0.41291949, -1.10219604, -0.55675445],\n",
       "       [ 1.44319804, -0.79917294,  0.23110562],\n",
       "       [ 0.59473335, -0.92038218, -0.19312673],\n",
       "       [ 0.47352411, -1.34461453, -0.43554521],\n",
       "       [ 1.0189657 , -0.73856832, -0.01131286],\n",
       "       [ 1.07957032, -1.22340528, -0.1325221 ],\n",
       "       [ 1.14017494, -0.79917294,  0.29171024],\n",
       "       [ 0.83715183, -0.79917294, -0.37494059],\n",
       "       [ 1.50380266, -0.67796369,  0.10989638],\n",
       "       [ 0.83715183, -0.73856832,  0.170501  ],\n",
       "       [ 0.95836108, -0.92038218, -0.07191748],\n",
       "       [ 1.20077956, -1.22340528,  0.170501  ],\n",
       "       [ 0.83715183, -1.04159142, -0.19312673],\n",
       "       [ 1.0189657 , -0.61735907,  0.35231486],\n",
       "       [ 1.14017494, -0.85977756, -0.1325221 ],\n",
       "       [ 1.26138418, -1.04159142,  0.41291949],\n",
       "       [ 1.14017494, -0.85977756,  0.29171024],\n",
       "       [ 1.3219888 , -0.79917294,  0.04929176],\n",
       "       [ 1.44319804, -0.73856832,  0.10989638],\n",
       "       [ 1.56440729, -0.85977756,  0.35231486],\n",
       "       [ 1.50380266, -0.73856832,  0.47352411],\n",
       "       [ 1.07957032, -0.79917294,  0.170501  ],\n",
       "       [ 0.89775645, -0.9809868 , -0.43554521],\n",
       "       [ 0.77654721, -1.10219604, -0.25373135],\n",
       "       [ 0.77654721, -1.10219604, -0.31433597],\n",
       "       [ 0.95836108, -0.92038218, -0.19312673],\n",
       "       [ 1.07957032, -0.92038218,  0.53412873],\n",
       "       [ 0.71594259, -0.73856832,  0.170501  ],\n",
       "       [ 1.07957032, -0.49614983,  0.170501  ],\n",
       "       [ 1.50380266, -0.67796369,  0.29171024],\n",
       "       [ 1.26138418, -1.16280066,  0.10989638],\n",
       "       [ 0.83715183, -0.73856832, -0.07191748],\n",
       "       [ 0.77654721, -1.04159142, -0.1325221 ],\n",
       "       [ 0.77654721, -0.9809868 ,  0.10989638],\n",
       "       [ 1.14017494, -0.73856832,  0.23110562],\n",
       "       [ 0.95836108, -0.9809868 , -0.1325221 ],\n",
       "       [ 0.47352411, -1.16280066, -0.55675445],\n",
       "       [ 0.83715183, -0.92038218, -0.01131286],\n",
       "       [ 0.89775645, -0.73856832, -0.01131286],\n",
       "       [ 0.89775645, -0.79917294, -0.01131286],\n",
       "       [ 1.20077956, -0.79917294,  0.04929176],\n",
       "       [ 0.53412873, -1.04159142, -0.73856832],\n",
       "       [ 0.89775645, -0.85977756, -0.07191748],\n",
       "       [ 1.26138418, -0.55675445,  1.07957032],\n",
       "       [ 0.95836108, -0.92038218,  0.53412873],\n",
       "       [ 1.74622115, -0.73856832,  1.0189657 ],\n",
       "       [ 1.26138418, -0.79917294,  0.83715183],\n",
       "       [ 1.38259342, -0.73856832,  0.95836108],\n",
       "       [ 2.04924425, -0.73856832,  1.44319804],\n",
       "       [ 0.41291949, -1.04159142,  0.170501  ],\n",
       "       [ 1.86743039, -0.79917294,  1.26138418],\n",
       "       [ 1.50380266, -1.04159142,  0.95836108],\n",
       "       [ 1.80682577, -0.37494059,  1.14017494],\n",
       "       [ 1.38259342, -0.61735907,  0.53412873],\n",
       "       [ 1.3219888 , -0.92038218,  0.65533797],\n",
       "       [ 1.56440729, -0.73856832,  0.77654721],\n",
       "       [ 0.89775645, -1.04159142,  0.47352411],\n",
       "       [ 0.95836108, -0.85977756,  0.53412873],\n",
       "       [ 1.3219888 , -0.61735907,  0.65533797],\n",
       "       [ 1.38259342, -0.73856832,  0.77654721],\n",
       "       [ 2.10984888, -0.25373135,  1.50380266],\n",
       "       [ 2.10984888, -0.9809868 ,  1.62501191],\n",
       "       [ 1.07957032, -1.22340528,  0.47352411],\n",
       "       [ 1.62501191, -0.61735907,  0.89775645],\n",
       "       [ 0.83715183, -0.85977756,  0.41291949],\n",
       "       [ 2.10984888, -0.85977756,  1.50380266],\n",
       "       [ 1.26138418, -0.92038218,  0.41291949],\n",
       "       [ 1.50380266, -0.55675445,  0.89775645],\n",
       "       [ 1.80682577, -0.61735907,  1.07957032],\n",
       "       [ 1.20077956, -0.85977756,  0.35231486],\n",
       "       [ 1.14017494, -0.73856832,  0.41291949],\n",
       "       [ 1.3219888 , -0.85977756,  0.83715183],\n",
       "       [ 1.80682577, -0.73856832,  0.95836108],\n",
       "       [ 1.92803501, -0.85977756,  1.14017494],\n",
       "       [ 2.23105812, -0.25373135,  1.3219888 ],\n",
       "       [ 1.3219888 , -0.85977756,  0.83715183],\n",
       "       [ 1.26138418, -0.85977756,  0.53412873],\n",
       "       [ 1.14017494, -0.9809868 ,  0.83715183],\n",
       "       [ 2.10984888, -0.73856832,  1.14017494],\n",
       "       [ 1.26138418, -0.49614983,  0.83715183],\n",
       "       [ 1.3219888 , -0.67796369,  0.77654721],\n",
       "       [ 1.07957032, -0.73856832,  0.35231486],\n",
       "       [ 1.62501191, -0.67796369,  0.71594259],\n",
       "       [ 1.50380266, -0.67796369,  0.83715183],\n",
       "       [ 1.62501191, -0.67796369,  0.53412873],\n",
       "       [ 0.95836108, -0.92038218,  0.53412873],\n",
       "       [ 1.56440729, -0.61735907,  1.0189657 ],\n",
       "       [ 1.50380266, -0.55675445,  0.89775645],\n",
       "       [ 1.50380266, -0.73856832,  0.59473335],\n",
       "       [ 1.26138418, -1.04159142,  0.47352411],\n",
       "       [ 1.38259342, -0.73856832,  0.59473335],\n",
       "       [ 1.20077956, -0.49614983,  0.71594259],\n",
       "       [ 1.0189657 , -0.73856832,  0.53412873]])"
      ]
     },
     "execution_count": 10,
     "metadata": {},
     "output_type": "execute_result"
    }
   ],
   "source": [
    "x = (x - x.mean()) / x.std()\n",
    "x"
   ]
  },
  {
   "cell_type": "code",
   "execution_count": 11,
   "id": "ea4ad9fb",
   "metadata": {},
   "outputs": [
    {
     "name": "stdout",
     "output_type": "stream",
     "text": [
      "(150, 3)\n"
     ]
    }
   ],
   "source": [
    "print(x.shape)"
   ]
  },
  {
   "cell_type": "code",
   "execution_count": 12,
   "id": "e91a3780",
   "metadata": {},
   "outputs": [
    {
     "data": {
      "text/plain": [
       "150"
      ]
     },
     "execution_count": 12,
     "metadata": {},
     "output_type": "execute_result"
    }
   ],
   "source": [
    "x.shape[0]"
   ]
  },
  {
   "cell_type": "code",
   "execution_count": null,
   "id": "3a8be531",
   "metadata": {},
   "outputs": [],
   "source": []
  },
  {
   "cell_type": "markdown",
   "id": "6de2b603",
   "metadata": {},
   "source": []
  },
  {
   "cell_type": "code",
   "execution_count": 13,
   "id": "4882a181",
   "metadata": {},
   "outputs": [
    {
     "name": "stdout",
     "output_type": "stream",
     "text": [
      "140\n"
     ]
    }
   ],
   "source": [
    "a = np.array([1,2,3])\n",
    "b = np.array([10,20,30])\n",
    "print(np.dot(a,b))\n",
    "# 10 + 40 + 90\n",
    "\n",
    "# 1x3, 1x3 - np.dot(): not runnig like matrix multiplication\n",
    "# there is a different function for this: np.matmul()\n",
    "# so if we calculate np.dot of 2 vectors having not matching dimensions then it not returns vector,, it returns scaler.\"\""
   ]
  },
  {
   "cell_type": "code",
   "execution_count": 14,
   "id": "96b61f82",
   "metadata": {},
   "outputs": [
    {
     "ename": "ValueError",
     "evalue": "shapes (1,) and (3,) not aligned: 1 (dim 0) != 3 (dim 0)",
     "output_type": "error",
     "traceback": [
      "\u001b[1;31m---------------------------------------------------------------------------\u001b[0m",
      "\u001b[1;31mValueError\u001b[0m                                Traceback (most recent call last)",
      "Cell \u001b[1;32mIn [14], line 3\u001b[0m\n\u001b[0;32m      1\u001b[0m a \u001b[38;5;241m=\u001b[39m np\u001b[38;5;241m.\u001b[39marray([\u001b[38;5;241m1\u001b[39m])      \u001b[38;5;66;03m# it must be a sclaer, not even 1-D vector\u001b[39;00m\n\u001b[0;32m      2\u001b[0m b \u001b[38;5;241m=\u001b[39m np\u001b[38;5;241m.\u001b[39marray([\u001b[38;5;241m10\u001b[39m,\u001b[38;5;241m20\u001b[39m,\u001b[38;5;241m30\u001b[39m])\n\u001b[1;32m----> 3\u001b[0m \u001b[38;5;28mprint\u001b[39m(\u001b[43mnp\u001b[49m\u001b[38;5;241;43m.\u001b[39;49m\u001b[43mdot\u001b[49m\u001b[43m(\u001b[49m\u001b[43ma\u001b[49m\u001b[43m,\u001b[49m\u001b[43mb\u001b[49m\u001b[43m)\u001b[49m)\n",
      "File \u001b[1;32m<__array_function__ internals>:180\u001b[0m, in \u001b[0;36mdot\u001b[1;34m(*args, **kwargs)\u001b[0m\n",
      "\u001b[1;31mValueError\u001b[0m: shapes (1,) and (3,) not aligned: 1 (dim 0) != 3 (dim 0)"
     ]
    }
   ],
   "source": [
    "a = np.array([1])      # it must be a sclaer, not even 1-D vector\n",
    "b = np.array([10,20,30])\n",
    "print(np.dot(a,b))"
   ]
  },
  {
   "cell_type": "code",
   "execution_count": 15,
   "id": "c8cc0dba",
   "metadata": {},
   "outputs": [
    {
     "name": "stdout",
     "output_type": "stream",
     "text": [
      "[10 20 30]\n"
     ]
    }
   ],
   "source": [
    "a = np.array(1)      # it must be a sclaer, not even 1-D vector\n",
    "b = np.array([10,20,30])\n",
    "print(np.dot(a,b))"
   ]
  },
  {
   "cell_type": "code",
   "execution_count": 16,
   "id": "a06a2da7",
   "metadata": {},
   "outputs": [],
   "source": [
    "# for only one sample\n",
    "\n",
    "def Multivariate_Gradient_Descent(x, y, w, b, alpha, iters):\n",
    "    \n",
    "    for iter in range(iters):\n",
    "        n = len(x)                                          # number of features - here: 3\n",
    "        m = 1\n",
    "\n",
    "        dj_dw = np.zeros(n)                                 # [0 0 0]\n",
    "        dj_db = 0                                           # scaler\n",
    "\n",
    "        y_pred = np.dot(x, w) + b                           # 1-D vector: [x1 x2 x3][w1 w2 w3] this dot product returns scaler\n",
    "\n",
    "        for j in range(n):\n",
    "            dj_dw[j] = (y_pred - y)*x[j]\n",
    "        \n",
    "        dj_db = (y_pred - y)\n",
    "\n",
    "        dj_dw = dj_dw/m                                     # 1x3 vector\n",
    "        dj_db = dj_db/m                                     # scaler \n",
    "\n",
    "        w = w - alpha*dj_dw                                 # 1x3 vector: [w1 w2 w3] - [dw1 dw2 dw3]\n",
    "        b = b - alpha*dj_db                                 # scaler - scaler\n",
    "    \n",
    "    return w, b"
   ]
  },
  {
   "cell_type": "code",
   "execution_count": 17,
   "id": "2c94c310",
   "metadata": {},
   "outputs": [
    {
     "name": "stdout",
     "output_type": "stream",
     "text": [
      "[ 0.53412873 -0.43554521 -1.70824225]\n",
      "[0.2]\n",
      "(150, 3)\n"
     ]
    }
   ],
   "source": [
    "print(x[0])\n",
    "print(y[0])\n",
    "print(x.shape)"
   ]
  },
  {
   "cell_type": "code",
   "execution_count": 18,
   "id": "1bb82a8e",
   "metadata": {},
   "outputs": [
    {
     "name": "stdout",
     "output_type": "stream",
     "text": [
      "(3,)\n"
     ]
    }
   ],
   "source": [
    "w = np.zeros(x.shape[1])\n",
    "print(w.shape)"
   ]
  },
  {
   "cell_type": "code",
   "execution_count": 19,
   "id": "9e35c63d",
   "metadata": {},
   "outputs": [],
   "source": [
    "alpha = 0.01\n",
    "\n",
    "w = np.zeros(x.shape[1]) # w:[0, 0, 0]\n",
    "b = 0\n",
    "\n",
    "iters = 1000\n",
    "\n",
    "# for only one sample\n",
    "w, b =  Multivariate_Gradient_Descent(x[0], y[0], w, b, alpha, iters)\n"
   ]
  },
  {
   "cell_type": "code",
   "execution_count": 20,
   "id": "b4d5c3a7",
   "metadata": {},
   "outputs": [
    {
     "name": "stdout",
     "output_type": "stream",
     "text": [
      "Final w:[ 0.0243168  -0.01982867 -0.0777696 ] and Final b:[0.0455261]\n"
     ]
    }
   ],
   "source": [
    "print(f\"Final w:{w} and Final b:{b}\")"
   ]
  },
  {
   "cell_type": "code",
   "execution_count": 21,
   "id": "f85d0080",
   "metadata": {},
   "outputs": [
    {
     "data": {
      "text/plain": [
       "6"
      ]
     },
     "execution_count": 21,
     "metadata": {},
     "output_type": "execute_result"
    }
   ],
   "source": [
    "np.sum([1,2,3])"
   ]
  },
  {
   "cell_type": "markdown",
   "id": "7448b6e4",
   "metadata": {},
   "source": [
    "# 5 Gradient Descent With Multiple Variables\n",
    "Gradient descent for multiple variables:\n",
    "\n",
    "$$\\begin{align*} \\text{repeat}&\\text{ until convergence:} \\; \\lbrace \\newline\\;\n",
    "& w_j = w_j -  \\alpha \\frac{\\partial J(\\mathbf{w},b)}{\\partial w_j} \\tag{5}  \\; & \\text{for j = 0..n-1}\\newline\n",
    "&b\\ \\ = b -  \\alpha \\frac{\\partial J(\\mathbf{w},b)}{\\partial b}  \\newline \\rbrace\n",
    "\\end{align*}$$\n",
    "\n",
    "where, n is the number of features, parameters $w_j$,  $b$, are updated simultaneously and where  \n",
    "\n",
    "$$\n",
    "\\begin{align}\n",
    "\\frac{\\partial J(\\mathbf{w},b)}{\\partial w_j}  &= \\frac{1}{m} \\sum\\limits_{i = 0}^{m-1} (f_{\\mathbf{w},b}(\\mathbf{x}^{(i)}) - y^{(i)})x_{j}^{(i)} \\tag{6}  \\\\\n",
    "\\frac{\\partial J(\\mathbf{w},b)}{\\partial b}  &= \\frac{1}{m} \\sum\\limits_{i = 0}^{m-1} (f_{\\mathbf{w},b}(\\mathbf{x}^{(i)}) - y^{(i)}) \\tag{7}\n",
    "\\end{align}\n",
    "$$\n",
    "* m is the number of training examples in the data set\n",
    "\n",
    "    \n",
    "*  $f_{\\mathbf{w},b}(\\mathbf{x}^{(i)})$ is the model's prediction, while $y^{(i)}$ is the target value\n"
   ]
  },
  {
   "cell_type": "code",
   "execution_count": 22,
   "id": "814daf8a",
   "metadata": {},
   "outputs": [],
   "source": [
    "def Multivariate_Gradient_Descent(x, y, w, b, alpha, iters):\n",
    "    \n",
    "    for iter in range(iters):\n",
    "    \n",
    "        m = x.shape[0] # number of samples\n",
    "        n = x.shape[1] # number of features\n",
    "        \n",
    "        dj_dw = np.zeros(n,)\n",
    "        dj_db = 0\n",
    "\n",
    "        for i in range(m):\n",
    "            y_pred = (np.dot(x[i],w) + b) - y[i]\n",
    "            \n",
    "            for j in range(n):\n",
    "                dj_dw[j] = dj_dw[j] + (y_pred)*x[i][j]\n",
    "            \n",
    "            dj_db = dj_db + y_pred\n",
    "        \n",
    "        dj_dw = dj_dw/m\n",
    "        dj_db = dj_db/m\n",
    "\n",
    "        w = w - alpha*dj_dw                        \n",
    "        b = b - alpha*dj_db                        \n",
    "    \n",
    "    return w, b"
   ]
  },
  {
   "cell_type": "code",
   "execution_count": null,
   "id": "22f80f26",
   "metadata": {},
   "outputs": [],
   "source": []
  },
  {
   "cell_type": "code",
   "execution_count": 23,
   "id": "3ba60642",
   "metadata": {},
   "outputs": [
    {
     "name": "stdout",
     "output_type": "stream",
     "text": [
      "[ 50 110]\n"
     ]
    }
   ],
   "source": [
    "a = np.array([[1,2],\n",
    "              [3,4]])      \n",
    "b = np.array([10,20])\n",
    "print(np.dot(a,b))\n",
    "\n",
    "# [1,2] [10,20]\n",
    "# [3,4]"
   ]
  },
  {
   "cell_type": "code",
   "execution_count": 24,
   "id": "aa624fa6",
   "metadata": {},
   "outputs": [],
   "source": [
    "alpha = 0.01\n",
    "iters = 1000\n",
    "\n",
    "x = iris.iloc[:,1:4].values\n",
    "\n",
    "w = np.zeros(x.shape[1])\n",
    "b = 0\n",
    "\n",
    "w, b =  Multivariate_Gradient_Descent(x, y, w, b, alpha, iters)"
   ]
  },
  {
   "cell_type": "code",
   "execution_count": 25,
   "id": "d8f323e7",
   "metadata": {},
   "outputs": [
    {
     "name": "stdout",
     "output_type": "stream",
     "text": [
      "Final w:[-0.08757498  0.02326325  0.45017579] and Final b:[-0.05039142]\n"
     ]
    }
   ],
   "source": [
    "print(f\"Final w:{w} and Final b:{b}\")"
   ]
  },
  {
   "cell_type": "markdown",
   "id": "63599571",
   "metadata": {},
   "source": [
    "# We can draw a plane in n-D which is best fit to our datapoints.\n",
    "## where n = number of features"
   ]
  },
  {
   "cell_type": "code",
   "execution_count": null,
   "id": "b341060f",
   "metadata": {},
   "outputs": [],
   "source": []
  },
  {
   "cell_type": "code",
   "execution_count": null,
   "id": "cf68fabd",
   "metadata": {},
   "outputs": [],
   "source": []
  }
 ],
 "metadata": {
  "kernelspec": {
   "display_name": "Python 3 (ipykernel)",
   "language": "python",
   "name": "python3"
  },
  "language_info": {
   "codemirror_mode": {
    "name": "ipython",
    "version": 3
   },
   "file_extension": ".py",
   "mimetype": "text/x-python",
   "name": "python",
   "nbconvert_exporter": "python",
   "pygments_lexer": "ipython3",
   "version": "3.10.6"
  }
 },
 "nbformat": 4,
 "nbformat_minor": 5
}
