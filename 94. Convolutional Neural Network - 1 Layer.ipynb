{
 "cells": [
  {
   "cell_type": "code",
   "execution_count": 1,
   "id": "9b99c68a",
   "metadata": {},
   "outputs": [],
   "source": [
    "import numpy as np\n",
    "\n"
   ]
  },
  {
   "cell_type": "code",
   "execution_count": 2,
   "id": "95eb4670",
   "metadata": {},
   "outputs": [],
   "source": [
    "\n",
    "def convolve(image, kernel):\n",
    "    m, n = kernel.shape\n",
    "    y, x = image.shape\n",
    "    y = y - m + 1\n",
    "    x = x - n + 1\n",
    "    new_image = np.zeros((y, x))\n",
    "    for i in range(y):\n",
    "        for j in range(x):\n",
    "            new_image[i][j] = np.sum(image[i:i+m, j:j+n]*kernel)\n",
    "    return new_image\n",
    "\n",
    "\n",
    "def relu(x):\n",
    "    return np.maximum(x, 0)\n",
    "\n",
    "\n",
    "vertical_edge_filter = np.array([[-1, 0, 1],\n",
    "                                 [-1, 0, 1],\n",
    "                                 [-1, 0, 1]])\n",
    "\n",
    "\n",
    "def cnn(image):\n",
    "    image = np.pad(image, ((1, 1), (1, 1)), mode='constant')\n",
    "    conv = convolve(image, vertical_edge_filter)\n",
    "    output = relu(conv)\n",
    "    return output\n",
    "\n",
    "\n"
   ]
  },
  {
   "cell_type": "code",
   "execution_count": 3,
   "id": "1db6b01e",
   "metadata": {},
   "outputs": [
    {
     "name": "stdout",
     "output_type": "stream",
     "text": [
      "[[ 9.  4.  4.  4.  0.]\n",
      " [21.  6.  6.  6.  0.]\n",
      " [36.  6.  6.  6.  0.]\n",
      " [51.  6.  6.  6.  0.]\n",
      " [39.  4.  4.  4.  0.]]\n"
     ]
    }
   ],
   "source": [
    "image = np.array([[1, 2, 3, 4, 5],\n",
    "                  [6, 7, 8, 9, 10],\n",
    "                  [11, 12, 13, 14, 15],\n",
    "                  [16, 17, 18, 19, 20],\n",
    "                  [21, 22, 23, 24, 25]])\n",
    "output = cnn(image)\n",
    "print(output)"
   ]
  },
  {
   "cell_type": "code",
   "execution_count": null,
   "id": "bc63ca46",
   "metadata": {},
   "outputs": [],
   "source": []
  },
  {
   "cell_type": "code",
   "execution_count": null,
   "id": "04940460",
   "metadata": {},
   "outputs": [],
   "source": []
  },
  {
   "cell_type": "code",
   "execution_count": null,
   "id": "b898deda",
   "metadata": {},
   "outputs": [],
   "source": []
  },
  {
   "cell_type": "code",
   "execution_count": null,
   "id": "55f6e0ec",
   "metadata": {},
   "outputs": [],
   "source": []
  }
 ],
 "metadata": {
  "kernelspec": {
   "display_name": "Python 3 (ipykernel)",
   "language": "python",
   "name": "python3"
  },
  "language_info": {
   "codemirror_mode": {
    "name": "ipython",
    "version": 3
   },
   "file_extension": ".py",
   "mimetype": "text/x-python",
   "name": "python",
   "nbconvert_exporter": "python",
   "pygments_lexer": "ipython3",
   "version": "3.10.6"
  }
 },
 "nbformat": 4,
 "nbformat_minor": 5
}
