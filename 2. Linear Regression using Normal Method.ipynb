{
 "cells": [
  {
   "cell_type": "code",
   "execution_count": 1,
   "id": "f6b12b34",
   "metadata": {},
   "outputs": [],
   "source": [
    "import pandas as pd\n",
    "import numpy as np\n",
    "import matplotlib.pyplot as plt"
   ]
  },
  {
   "cell_type": "code",
   "execution_count": 2,
   "id": "4aa6e640",
   "metadata": {},
   "outputs": [],
   "source": [
    "data=pd.read_csv('Sample data.csv')"
   ]
  },
  {
   "cell_type": "code",
   "execution_count": 3,
   "id": "d0ac2aa1",
   "metadata": {},
   "outputs": [
    {
     "name": "stdout",
     "output_type": "stream",
     "text": [
      "<class 'pandas.core.frame.DataFrame'>\n",
      "RangeIndex: 25 entries, 0 to 24\n",
      "Data columns (total 2 columns):\n",
      " #   Column  Non-Null Count  Dtype\n",
      "---  ------  --------------  -----\n",
      " 0   x       25 non-null     int64\n",
      " 1   y       25 non-null     int64\n",
      "dtypes: int64(2)\n",
      "memory usage: 528.0 bytes\n"
     ]
    }
   ],
   "source": [
    "data.info()"
   ]
  },
  {
   "cell_type": "code",
   "execution_count": 4,
   "id": "f355b8aa",
   "metadata": {},
   "outputs": [
    {
     "data": {
      "text/html": [
       "<div>\n",
       "<style scoped>\n",
       "    .dataframe tbody tr th:only-of-type {\n",
       "        vertical-align: middle;\n",
       "    }\n",
       "\n",
       "    .dataframe tbody tr th {\n",
       "        vertical-align: top;\n",
       "    }\n",
       "\n",
       "    .dataframe thead th {\n",
       "        text-align: right;\n",
       "    }\n",
       "</style>\n",
       "<table border=\"1\" class=\"dataframe\">\n",
       "  <thead>\n",
       "    <tr style=\"text-align: right;\">\n",
       "      <th></th>\n",
       "      <th>x</th>\n",
       "      <th>y</th>\n",
       "    </tr>\n",
       "  </thead>\n",
       "  <tbody>\n",
       "    <tr>\n",
       "      <th>count</th>\n",
       "      <td>25.000000</td>\n",
       "      <td>25.000000</td>\n",
       "    </tr>\n",
       "    <tr>\n",
       "      <th>mean</th>\n",
       "      <td>13.000000</td>\n",
       "      <td>13.080000</td>\n",
       "    </tr>\n",
       "    <tr>\n",
       "      <th>std</th>\n",
       "      <td>7.359801</td>\n",
       "      <td>7.788453</td>\n",
       "    </tr>\n",
       "    <tr>\n",
       "      <th>min</th>\n",
       "      <td>1.000000</td>\n",
       "      <td>2.000000</td>\n",
       "    </tr>\n",
       "    <tr>\n",
       "      <th>25%</th>\n",
       "      <td>7.000000</td>\n",
       "      <td>7.000000</td>\n",
       "    </tr>\n",
       "    <tr>\n",
       "      <th>50%</th>\n",
       "      <td>13.000000</td>\n",
       "      <td>11.000000</td>\n",
       "    </tr>\n",
       "    <tr>\n",
       "      <th>75%</th>\n",
       "      <td>19.000000</td>\n",
       "      <td>20.000000</td>\n",
       "    </tr>\n",
       "    <tr>\n",
       "      <th>max</th>\n",
       "      <td>25.000000</td>\n",
       "      <td>26.000000</td>\n",
       "    </tr>\n",
       "  </tbody>\n",
       "</table>\n",
       "</div>"
      ],
      "text/plain": [
       "               x          y\n",
       "count  25.000000  25.000000\n",
       "mean   13.000000  13.080000\n",
       "std     7.359801   7.788453\n",
       "min     1.000000   2.000000\n",
       "25%     7.000000   7.000000\n",
       "50%    13.000000  11.000000\n",
       "75%    19.000000  20.000000\n",
       "max    25.000000  26.000000"
      ]
     },
     "execution_count": 4,
     "metadata": {},
     "output_type": "execute_result"
    }
   ],
   "source": [
    "data.describe()"
   ]
  },
  {
   "cell_type": "code",
   "execution_count": 5,
   "id": "4ef9523d",
   "metadata": {},
   "outputs": [
    {
     "data": {
      "text/html": [
       "<div>\n",
       "<style scoped>\n",
       "    .dataframe tbody tr th:only-of-type {\n",
       "        vertical-align: middle;\n",
       "    }\n",
       "\n",
       "    .dataframe tbody tr th {\n",
       "        vertical-align: top;\n",
       "    }\n",
       "\n",
       "    .dataframe thead th {\n",
       "        text-align: right;\n",
       "    }\n",
       "</style>\n",
       "<table border=\"1\" class=\"dataframe\">\n",
       "  <thead>\n",
       "    <tr style=\"text-align: right;\">\n",
       "      <th></th>\n",
       "      <th>x</th>\n",
       "      <th>y</th>\n",
       "    </tr>\n",
       "  </thead>\n",
       "  <tbody>\n",
       "    <tr>\n",
       "      <th>24</th>\n",
       "      <td>25</td>\n",
       "      <td>25</td>\n",
       "    </tr>\n",
       "    <tr>\n",
       "      <th>10</th>\n",
       "      <td>11</td>\n",
       "      <td>16</td>\n",
       "    </tr>\n",
       "    <tr>\n",
       "      <th>22</th>\n",
       "      <td>23</td>\n",
       "      <td>23</td>\n",
       "    </tr>\n",
       "    <tr>\n",
       "      <th>3</th>\n",
       "      <td>4</td>\n",
       "      <td>4</td>\n",
       "    </tr>\n",
       "    <tr>\n",
       "      <th>5</th>\n",
       "      <td>6</td>\n",
       "      <td>7</td>\n",
       "    </tr>\n",
       "  </tbody>\n",
       "</table>\n",
       "</div>"
      ],
      "text/plain": [
       "     x   y\n",
       "24  25  25\n",
       "10  11  16\n",
       "22  23  23\n",
       "3    4   4\n",
       "5    6   7"
      ]
     },
     "execution_count": 5,
     "metadata": {},
     "output_type": "execute_result"
    }
   ],
   "source": [
    "data.sample(5)"
   ]
  },
  {
   "cell_type": "code",
   "execution_count": 6,
   "id": "3f5ae110",
   "metadata": {},
   "outputs": [
    {
     "data": {
      "text/plain": [
       "False"
      ]
     },
     "execution_count": 6,
     "metadata": {},
     "output_type": "execute_result"
    }
   ],
   "source": [
    "data.isnull().values.any()"
   ]
  },
  {
   "cell_type": "code",
   "execution_count": 7,
   "id": "6ceb9fd9",
   "metadata": {},
   "outputs": [
    {
     "data": {
      "text/plain": [
       "13.0"
      ]
     },
     "execution_count": 7,
     "metadata": {},
     "output_type": "execute_result"
    }
   ],
   "source": [
    "x_mean = data['x'].mean()\n",
    "x_mean"
   ]
  },
  {
   "cell_type": "code",
   "execution_count": 8,
   "id": "b11446d4",
   "metadata": {},
   "outputs": [
    {
     "data": {
      "text/plain": [
       "13.08"
      ]
     },
     "execution_count": 8,
     "metadata": {},
     "output_type": "execute_result"
    }
   ],
   "source": [
    "Y = data['y'].values\n",
    "\n",
    "y_mean = np.mean(Y)\n",
    "y_mean"
   ]
  },
  {
   "cell_type": "code",
   "execution_count": 9,
   "id": "439b0ea3",
   "metadata": {},
   "outputs": [
    {
     "data": {
      "text/plain": [
       "25"
      ]
     },
     "execution_count": 9,
     "metadata": {},
     "output_type": "execute_result"
    }
   ],
   "source": [
    "# rows=len(data['x'])\n",
    "rows = data.shape[0]\n",
    "rows"
   ]
  },
  {
   "cell_type": "code",
   "execution_count": 10,
   "id": "6ec5a2a8",
   "metadata": {},
   "outputs": [],
   "source": [
    "numer=0\n",
    "denom=0\n",
    "\n",
    "X = data['x'].values"
   ]
  },
  {
   "cell_type": "code",
   "execution_count": 11,
   "id": "923d332a",
   "metadata": {},
   "outputs": [
    {
     "name": "stderr",
     "output_type": "stream",
     "text": [
      "C:\\Users\\Destiny\\AppData\\Local\\Temp\\ipykernel_3744\\839219221.py:8: RuntimeWarning: divide by zero encountered in double_scalars\n",
      "  m = numer/denom\n"
     ]
    },
    {
     "data": {
      "text/plain": [
       "inf"
      ]
     },
     "execution_count": 11,
     "metadata": {},
     "output_type": "execute_result"
    }
   ],
   "source": [
    "# Calculate the slope: m\n",
    "\n",
    "for i in range(rows):\n",
    "    numer = numer + Y[i] - y_mean\n",
    "    denom = denom + X[i] - x_mean\n",
    "\n",
    "# slope: m = sum(yi - y)/sum(xi-x)\n",
    "m = numer/denom\n",
    "m"
   ]
  },
  {
   "cell_type": "code",
   "execution_count": 12,
   "id": "812a29e9",
   "metadata": {},
   "outputs": [
    {
     "data": {
      "text/plain": [
       "0.0"
      ]
     },
     "execution_count": 12,
     "metadata": {},
     "output_type": "execute_result"
    }
   ],
   "source": [
    "denom"
   ]
  },
  {
   "cell_type": "code",
   "execution_count": 13,
   "id": "bb6066ff",
   "metadata": {},
   "outputs": [
    {
     "name": "stdout",
     "output_type": "stream",
     "text": [
      "1   3\n",
      "2   4\n",
      "3   2\n",
      "4   4\n",
      "5   5\n",
      "6   7\n",
      "7   9\n",
      "8   5\n",
      "9   11\n",
      "10   8\n",
      "11   16\n",
      "12   9\n",
      "13   11\n",
      "14   12\n",
      "15   19\n",
      "16   15\n",
      "17   21\n",
      "18   8\n",
      "19   20\n",
      "20   20\n",
      "21   26\n",
      "22   18\n",
      "23   23\n",
      "24   26\n",
      "25   25\n",
      "Slope:0.963076923076923\n",
      "Slope: 0.963076923076923\n"
     ]
    },
    {
     "data": {
      "text/plain": [
       "0.963076923076923"
      ]
     },
     "execution_count": 13,
     "metadata": {},
     "output_type": "execute_result"
    }
   ],
   "source": [
    "# Calculate the slope: m\n",
    "\n",
    "for i in range(rows):\n",
    "    print(X[i],\" \",Y[i])\n",
    "    numer = numer + (X[i] - x_mean) * (Y[i] - y_mean)\n",
    "    denom = denom + (X[i] - x_mean) ** 2  # squared\n",
    "\n",
    "# slope: m = sum(yi - y)/sum(xi-x)\n",
    "m = numer/denom\n",
    "print(f'Slope:{m}')\n",
    "print(\"Slope:\",m)\n",
    "\n",
    "m"
   ]
  },
  {
   "cell_type": "code",
   "execution_count": 14,
   "id": "37a0abee",
   "metadata": {},
   "outputs": [
    {
     "data": {
      "text/plain": [
       "0.5600000000000005"
      ]
     },
     "execution_count": 14,
     "metadata": {},
     "output_type": "execute_result"
    }
   ],
   "source": [
    "#  Calculate intercept: c\n",
    "\n",
    "c = y_mean - m * x_mean\n",
    "c"
   ]
  },
  {
   "cell_type": "code",
   "execution_count": 15,
   "id": "a3f9cbbd",
   "metadata": {},
   "outputs": [
    {
     "data": {
      "text/plain": [
       "array([ 1.        ,  1.24242424,  1.48484848,  1.72727273,  1.96969697,\n",
       "        2.21212121,  2.45454545,  2.6969697 ,  2.93939394,  3.18181818,\n",
       "        3.42424242,  3.66666667,  3.90909091,  4.15151515,  4.39393939,\n",
       "        4.63636364,  4.87878788,  5.12121212,  5.36363636,  5.60606061,\n",
       "        5.84848485,  6.09090909,  6.33333333,  6.57575758,  6.81818182,\n",
       "        7.06060606,  7.3030303 ,  7.54545455,  7.78787879,  8.03030303,\n",
       "        8.27272727,  8.51515152,  8.75757576,  9.        ,  9.24242424,\n",
       "        9.48484848,  9.72727273,  9.96969697, 10.21212121, 10.45454545,\n",
       "       10.6969697 , 10.93939394, 11.18181818, 11.42424242, 11.66666667,\n",
       "       11.90909091, 12.15151515, 12.39393939, 12.63636364, 12.87878788,\n",
       "       13.12121212, 13.36363636, 13.60606061, 13.84848485, 14.09090909,\n",
       "       14.33333333, 14.57575758, 14.81818182, 15.06060606, 15.3030303 ,\n",
       "       15.54545455, 15.78787879, 16.03030303, 16.27272727, 16.51515152,\n",
       "       16.75757576, 17.        , 17.24242424, 17.48484848, 17.72727273,\n",
       "       17.96969697, 18.21212121, 18.45454545, 18.6969697 , 18.93939394,\n",
       "       19.18181818, 19.42424242, 19.66666667, 19.90909091, 20.15151515,\n",
       "       20.39393939, 20.63636364, 20.87878788, 21.12121212, 21.36363636,\n",
       "       21.60606061, 21.84848485, 22.09090909, 22.33333333, 22.57575758,\n",
       "       22.81818182, 23.06060606, 23.3030303 , 23.54545455, 23.78787879,\n",
       "       24.03030303, 24.27272727, 24.51515152, 24.75757576, 25.        ])"
      ]
     },
     "execution_count": 15,
     "metadata": {},
     "output_type": "execute_result"
    }
   ],
   "source": [
    "# 25 data(rows) - for calculating m and c (like training data) \n",
    "\n",
    "# now we take random numbers in range for plotting line\n",
    "\n",
    "max_x = np.max(X)\n",
    "min_x = np.min(X)\n",
    "\n",
    "new_X = np.linspace(min_x, max_x, 100)\n",
    "new_X"
   ]
  },
  {
   "cell_type": "code",
   "execution_count": 16,
   "id": "a131c1e0",
   "metadata": {},
   "outputs": [
    {
     "data": {
      "text/plain": [
       "array([ 1.52307692,  1.75655012,  1.99002331,  2.2234965 ,  2.4569697 ,\n",
       "        2.69044289,  2.92391608,  3.15738928,  3.39086247,  3.62433566,\n",
       "        3.85780886,  4.09128205,  4.32475524,  4.55822844,  4.79170163,\n",
       "        5.02517483,  5.25864802,  5.49212121,  5.72559441,  5.9590676 ,\n",
       "        6.19254079,  6.42601399,  6.65948718,  6.89296037,  7.12643357,\n",
       "        7.35990676,  7.59337995,  7.82685315,  8.06032634,  8.29379953,\n",
       "        8.52727273,  8.76074592,  8.99421911,  9.22769231,  9.4611655 ,\n",
       "        9.69463869,  9.92811189, 10.16158508, 10.39505828, 10.62853147,\n",
       "       10.86200466, 11.09547786, 11.32895105, 11.56242424, 11.79589744,\n",
       "       12.02937063, 12.26284382, 12.49631702, 12.72979021, 12.9632634 ,\n",
       "       13.1967366 , 13.43020979, 13.66368298, 13.89715618, 14.13062937,\n",
       "       14.36410256, 14.59757576, 14.83104895, 15.06452214, 15.29799534,\n",
       "       15.53146853, 15.76494172, 15.99841492, 16.23188811, 16.46536131,\n",
       "       16.6988345 , 16.93230769, 17.16578089, 17.39925408, 17.63272727,\n",
       "       17.86620047, 18.09967366, 18.33314685, 18.56662005, 18.80009324,\n",
       "       19.03356643, 19.26703963, 19.50051282, 19.73398601, 19.96745921,\n",
       "       20.2009324 , 20.43440559, 20.66787879, 20.90135198, 21.13482517,\n",
       "       21.36829837, 21.60177156, 21.83524476, 22.06871795, 22.30219114,\n",
       "       22.53566434, 22.76913753, 23.00261072, 23.23608392, 23.46955711,\n",
       "       23.7030303 , 23.9365035 , 24.16997669, 24.40344988, 24.63692308])"
      ]
     },
     "execution_count": 16,
     "metadata": {},
     "output_type": "execute_result"
    }
   ],
   "source": [
    "new_Y = m * new_X + c\n",
    "new_Y"
   ]
  },
  {
   "cell_type": "code",
   "execution_count": 17,
   "id": "b665edd9",
   "metadata": {},
   "outputs": [
    {
     "data": {
      "text/plain": [
       "[<matplotlib.lines.Line2D at 0x18ec0d8eda0>]"
      ]
     },
     "execution_count": 17,
     "metadata": {},
     "output_type": "execute_result"
    },
    {
     "data": {
      "image/png": "[encoded data removed]",
      "text/plain": [
       "<Figure size 640x480 with 1 Axes>"
      ]
     },
     "metadata": {},
     "output_type": "display_data"
    }
   ],
   "source": [
    "plt.plot(new_X, new_Y, color=\"red\", label='line')\n",
    "plt.show()"
   ]
  },
  {
   "cell_type": "code",
   "execution_count": 18,
   "id": "f0f3d117",
   "metadata": {},
   "outputs": [
    {
     "data": {
      "image/png": "[encoded data removed]",
      "text/plain": [
       "<Figure size 640x480 with 1 Axes>"
      ]
     },
     "metadata": {},
     "output_type": "display_data"
    }
   ],
   "source": [
    "plt.scatter(X, Y, color=\"orangered\", label=\"Data Points\")\n",
    "plt.xlabel(\"X Values\")\n",
    "plt.ylabel(\"Y Values\")\n",
    "plt.legend()\n",
    "plt.show()"
   ]
  },
  {
   "cell_type": "code",
   "execution_count": 19,
   "id": "c16a9b80",
   "metadata": {},
   "outputs": [
    {
     "data": {
      "image/png": "[encoded data removed]",
      "text/plain": [
       "<Figure size 640x480 with 1 Axes>"
      ]
     },
     "metadata": {},
     "output_type": "display_data"
    }
   ],
   "source": [
    "plt.plot(new_X, new_Y, color=\"red\", label='Prediction line')\n",
    "\n",
    "plt.scatter(X, Y, color=\"orangered\", label=\"Actual Data Points\")\n",
    "plt.xlabel(\"X Values\")\n",
    "plt.ylabel(\"Y Values\")\n",
    "plt.legend()\n",
    "plt.show()\n"
   ]
  },
  {
   "cell_type": "code",
   "execution_count": 20,
   "id": "283c1500",
   "metadata": {},
   "outputs": [
    {
     "data": {
      "text/plain": [
       "25"
      ]
     },
     "execution_count": 20,
     "metadata": {},
     "output_type": "execute_result"
    }
   ],
   "source": [
    "data.shape[0]"
   ]
  },
  {
   "cell_type": "code",
   "execution_count": 21,
   "id": "506bea2a",
   "metadata": {},
   "outputs": [
    {
     "data": {
      "text/plain": [
       "0.8282313356497333"
      ]
     },
     "execution_count": 21,
     "metadata": {},
     "output_type": "execute_result"
    }
   ],
   "source": [
    "# measure \n",
    "# calculating R-squared value for measuring goodness of our model\n",
    "\n",
    "sst = 0 # total sum of square\n",
    "ssr = 0\n",
    "\n",
    "for i in range(data.shape[0]):\n",
    "    y_pred = m * X[i] + c\n",
    "    \n",
    "    ssr = ssr + (Y[i] - y_pred) ** 2\n",
    "    sst = sst + (Y[i] - y_mean) ** 2\n",
    "    \n",
    "r2 = 1 - ssr/sst\n",
    "\n",
    "\n",
    "r2"
   ]
  },
  {
   "cell_type": "code",
   "execution_count": null,
   "id": "35dd6dfb",
   "metadata": {},
   "outputs": [],
   "source": []
  },
  {
   "cell_type": "code",
   "execution_count": null,
   "id": "f8281a01",
   "metadata": {},
   "outputs": [],
   "source": []
  }
 ],
 "metadata": {
  "kernelspec": {
   "display_name": "Python 3 (ipykernel)",
   "language": "python",
   "name": "python3"
  },
  "language_info": {
   "codemirror_mode": {
    "name": "ipython",
    "version": 3
   },
   "file_extension": ".py",
   "mimetype": "text/x-python",
   "name": "python",
   "nbconvert_exporter": "python",
   "pygments_lexer": "ipython3",
   "version": "3.10.6"
  }
 },
 "nbformat": 4,
 "nbformat_minor": 5
}
